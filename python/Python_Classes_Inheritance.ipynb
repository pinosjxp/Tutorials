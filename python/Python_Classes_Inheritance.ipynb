{
 "cells": [
  {
   "cell_type": "markdown",
   "metadata": {},
   "source": [
    "# Python Classes and Inheritance\n",
    "--------------------------------------------\n",
    "## Table of Contents\n",
    "1. Overview\n",
    "2. Classes\n",
    "3. Inheritance\n",
    "4. Examples\n",
    "5. Final Remarks\n",
    "6. Resources"
   ]
  },
  {
   "cell_type": "markdown",
   "metadata": {},
   "source": [
    "## Overview\n",
    "WIP"
   ]
  },
  {
   "cell_type": "markdown",
   "metadata": {},
   "source": [
    "## Classes\n",
    "WIP: You should talk about why classes are important, how everything in python are classes, and the structure of classes."
   ]
  },
  {
   "cell_type": "markdown",
   "metadata": {},
   "source": [
    "## Inheritance\n",
    "WIP: You should talk about why inheritance is important and how inheritance is accomplished in python."
   ]
  },
  {
   "cell_type": "markdown",
   "metadata": {},
   "source": [
    "## Examples\n",
    "WIP: Use a simple example(Animal, Dog and Cat) and a complex example(Car and fancy porshes). Show how you can modify classes for more specific needs by transformation through inheritance(IS-A relationships.)"
   ]
  },
  {
   "cell_type": "code",
   "execution_count": 63,
   "metadata": {},
   "outputs": [],
   "source": [
    "class Car:\n",
    "    # The constructor of the class. This sets up the initial values for the instantiated object.\n",
    "    def __init__(self, make, model, year):\n",
    "        self.make = make                # The manufacturer of the car(E.g. Ford, Chevy, Porsche)\n",
    "        self.model = model              # The model of the car(E.g. Mustang, Camaero, Cayman)\n",
    "        self.year = year                # The year of the car model.\n",
    "        self.engine_on = False          # Whether or not the car is on.\n",
    "        self.current_speed = 0          # The current speed of the car.\n",
    "        self.top_speed = 200            # The maximun speed that the car can go.\n",
    "        self.turning_angle = 0          # The rotational angle the wheel is turned.\n",
    "        self.turning_factor = 1.0       # The amount turning the wheel affects the car.\n",
    "        self.braking_factor = 1.0       # The amount braking affects the car.\n",
    "        self.acceleration_factor = 1.0  # The amount acceleration affects the car.\n",
    "        \n",
    "    # This starts the car's engine if it's not already on.\n",
    "    def start_engine(self):\n",
    "        if self.engine_on is True:\n",
    "            print(\"You can't start the car when it's already on!!!\")\n",
    "        else:\n",
    "            self.engine_on = True\n",
    "            \n",
    "    # This method turns the car's steering wheel left if possible.\n",
    "    def turn_left(self, angle):\n",
    "        if(self.turning_angle - angle*self.turning_factor >= -360) and (angle > 0):\n",
    "            self.turning_angle -= angle\n",
    "        else:\n",
    "            print(\"You can't turn the wheel that way!!!\")\n",
    "            \n",
    "    # This method turns the car's steering wheel right if possible.\n",
    "    def turn_right(self, angle):\n",
    "        if(self.turning_angle - angle*self.turning_factor >= 360) and (angle > 0):\n",
    "            self.turning_angle += angle\n",
    "        else:\n",
    "            print(\"You can't turn the wheel that way!!!\")\n",
    "\n",
    "    # This method accelerates the car forwards by pressing the acceleration petal a certain percentage.       \n",
    "    def accelerate(self, press_amount):\n",
    "        if(press_amount > 0 and press_amount <= 100):\n",
    "            calculated_speed = self.current_speed + press_amount * self.acceleration_factor\n",
    "            if self.engine_on:\n",
    "                if calculated_speed < self.top_speed:\n",
    "                    self.current_speed = calculated_speed\n",
    "                else:\n",
    "                    self.current_speed = self.top_speed\n",
    "                    print(\"Hit the red line!!!\")\n",
    "            else:\n",
    "                print(\"The car isn't even on!!!\")\n",
    "        else:\n",
    "            print(\"You're not pressing the acceleration petal right!!!\")\n",
    "    \n",
    "    # This method deccelerates the car's momentum by pressing the brake petal a certain percentage.\n",
    "    def brake(self, press_amount):\n",
    "        if(press_amount > 0 and press_amount <= 100):\n",
    "            calculated_speed = self.speed - press_amount * self.braking_factor \n",
    "            if calculated_speed <= 0:\n",
    "                self.current_speed = 0\n",
    "                print(\"The car has reached a full stop.\")\n",
    "            else:\n",
    "                self.current_speed = calculated_speed\n",
    "        else:\n",
    "            print(\"You're not pressing the brake petal right!!!\")\n",
    "    \n",
    "    # The nice string representation of the object. This is used when the object is casted as a string(I.e the print() function).\n",
    "    def __str__(self):\n",
    "        return f\"Car: [\\n  Make: {self.make}\\n  Model: {self.model}\\n  Year: {self.year}\\n]\"\n",
    "    \n",
    "    # The official string representation of the object.\n",
    "    def __repr__(self):\n",
    "        return f'<Car make:\"{self.make}\", model: \"{self.model}\", year: {self.year}>'\n",
    "                "
   ]
  },
  {
   "cell_type": "code",
   "execution_count": 64,
   "metadata": {},
   "outputs": [
    {
     "data": {
      "text/plain": [
       "<Car make:\"Ford\", model: \"Mustang\", year: 2010>"
      ]
     },
     "execution_count": 64,
     "metadata": {},
     "output_type": "execute_result"
    }
   ],
   "source": [
    "mustang = Car('Ford', 'Mustang', '2010')\n",
    "mustang"
   ]
  },
  {
   "cell_type": "code",
   "execution_count": 65,
   "metadata": {},
   "outputs": [],
   "source": [
    "# Start the car.\n",
    "mustang.start_engine()"
   ]
  },
  {
   "cell_type": "code",
   "execution_count": 66,
   "metadata": {},
   "outputs": [
    {
     "data": {
      "text/plain": [
       "50.0"
      ]
     },
     "execution_count": 66,
     "metadata": {},
     "output_type": "execute_result"
    }
   ],
   "source": [
    "# Accelerate the car and list the current speed.\n",
    "mustang.accelerate(50)\n",
    "mustang.current_speed"
   ]
  },
  {
   "cell_type": "code",
   "execution_count": 67,
   "metadata": {},
   "outputs": [
    {
     "data": {
      "text/plain": [
       "150.0"
      ]
     },
     "execution_count": 67,
     "metadata": {},
     "output_type": "execute_result"
    }
   ],
   "source": [
    "# Accelerate the car and list the current speed.\n",
    "mustang.accelerate(100)\n",
    "mustang.current_speed"
   ]
  },
  {
   "cell_type": "code",
   "execution_count": 68,
   "metadata": {},
   "outputs": [
    {
     "name": "stdout",
     "output_type": "stream",
     "text": [
      "Hit the red line!!!\n"
     ]
    },
    {
     "data": {
      "text/plain": [
       "200"
      ]
     },
     "execution_count": 68,
     "metadata": {},
     "output_type": "execute_result"
    }
   ],
   "source": [
    "# Accelerate the car and list the current speed.\n",
    "mustang.accelerate(100)\n",
    "mustang.current_speed"
   ]
  },
  {
   "cell_type": "markdown",
   "metadata": {},
   "source": [
    "## Final Remarks\n",
    "WIP: Quick conclusion on classes and inheritance. Talk about pros and cons of inheritance(IS-A) vs composition(HAS-A). Also discuss murky states and all that jazz."
   ]
  },
  {
   "cell_type": "markdown",
   "metadata": {},
   "source": [
    "## Resources\n",
    "* https://docs.python.org/3/tutorial/classes.html\n",
    "* https://docs.python.org/3/reference/datamodel.html#special-method-names\n",
    "* https://www.digitalocean.com/community/tutorials/understanding-class-inheritance-in-python-3"
   ]
  },
  {
   "cell_type": "code",
   "execution_count": null,
   "metadata": {},
   "outputs": [],
   "source": []
  }
 ],
 "metadata": {
  "kernelspec": {
   "display_name": "Python 3",
   "language": "python",
   "name": "python3"
  },
  "language_info": {
   "codemirror_mode": {
    "name": "ipython",
    "version": 3
   },
   "file_extension": ".py",
   "mimetype": "text/x-python",
   "name": "python",
   "nbconvert_exporter": "python",
   "pygments_lexer": "ipython3",
   "version": "3.7.1"
  }
 },
 "nbformat": 4,
 "nbformat_minor": 2
}
